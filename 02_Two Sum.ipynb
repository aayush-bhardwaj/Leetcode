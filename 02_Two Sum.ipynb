{
 "cells": [
  {
   "cell_type": "raw",
   "id": "57a88175-9963-4bc9-abc0-82f552b4e18a",
   "metadata": {},
   "source": [
    "Given an array of integers nums and an integer target, return indices of the two numbers such that they add up to target.\n",
    "\n",
    "You may assume that each input would have exactly one solution, and you may not use the same element twice.\n",
    "\n",
    "You can return the answer in any order.\n",
    "\n",
    "Example 1:\n",
    "\n",
    "Input: nums = [2,7,11,15], target = 9\n",
    "Output: [0,1]\n",
    "Explanation: Because nums[0] + nums[1] == 9, we return [0, 1].\n",
    "\n",
    "Example 2:\n",
    "\n",
    "Input: nums = [3,2,4], target = 6\n",
    "Output: [1,2]\n",
    "\n",
    "Example 3:\n",
    "\n",
    "Input: nums = [3,3], target = 6\n",
    "Output: [0,1]\n",
    " \n",
    "\n",
    "Constraints:\n",
    "\n",
    "2 <= nums.length <= 104\n",
    "-109 <= nums[i] <= 109\n",
    "-109 <= target <= 109\n",
    "\n",
    "Only one valid answer exists.\n",
    "\n",
    "https://leetcode.com/problems/two-sum/description/\n"
   ]
  },
  {
   "cell_type": "code",
   "execution_count": 1,
   "id": "af5fffac-c022-4096-9655-e90720255f73",
   "metadata": {},
   "outputs": [],
   "source": [
    "class Solution:\n",
    "    def twoSum(self, nums, target):\n",
    "        mapping = {}\n",
    "        for index in range(0, len(nums)):\n",
    "            value1 = nums[index]\n",
    "            if value1 in mapping.keys():\n",
    "                return [index, mapping[value1]]\n",
    "                \n",
    "            mapping[target - value1] = index\n",
    "            \n",
    "        return None"
   ]
  },
  {
   "cell_type": "code",
   "execution_count": 2,
   "id": "2390fe3e-fd64-4752-9295-192057a92bea",
   "metadata": {},
   "outputs": [
    {
     "name": "stdout",
     "output_type": "stream",
     "text": [
      "[1, 0]\n"
     ]
    }
   ],
   "source": [
    "obj = Solution()\n",
    "nums = [2,7,11,15]\n",
    "target = 9\n",
    "result = obj.twoSum(nums, target)\n",
    "print(result)"
   ]
  },
  {
   "cell_type": "raw",
   "id": "a7330f98-b43f-42b1-83ae-454177bd5c16",
   "metadata": {},
   "source": [
    "# Solution 1 - least optimum solution O(n2)\n",
    "\n",
    "index1 = 0\n",
    "\n",
    "for item in nums:\n",
    "    for second_item in range(index1 + 1, len(nums)):\n",
    "        if item + nums[second_item] == target:\n",
    "            return [index1, second_item]\n",
    "    index1 += 1\n",
    "\n",
    "return None"
   ]
  },
  {
   "cell_type": "raw",
   "id": "ad02f618-42b5-4206-ba28-77af2ef70520",
   "metadata": {},
   "source": [
    "Let's look for an optimal solution."
   ]
  },
  {
   "cell_type": "raw",
   "id": "5034965d-37f7-40a6-bb98-86330cbe16bf",
   "metadata": {},
   "source": [
    "# Solution 2\n",
    "\n",
    "mapping = {}\n",
    "\n",
    "for index in range(0, len(nums)):\n",
    "    value1 = nums[index]\n",
    "    if value1 in mapping.keys():\n",
    "        return [index, mapping[value1]]\n",
    "        \n",
    "    mapping[target - value1] = index\n",
    "    \n",
    "return None"
   ]
  }
 ],
 "metadata": {
  "kernelspec": {
   "display_name": "Python 3 (ipykernel)",
   "language": "python",
   "name": "python3"
  },
  "language_info": {
   "codemirror_mode": {
    "name": "ipython",
    "version": 3
   },
   "file_extension": ".py",
   "mimetype": "text/x-python",
   "name": "python",
   "nbconvert_exporter": "python",
   "pygments_lexer": "ipython3",
   "version": "3.9.6"
  }
 },
 "nbformat": 4,
 "nbformat_minor": 5
}

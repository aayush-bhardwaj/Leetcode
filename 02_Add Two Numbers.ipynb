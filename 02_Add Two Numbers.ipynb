{
 "cells": [
  {
   "cell_type": "markdown",
   "id": "b6d9d791-2b97-40f5-84d4-f059fb534d28",
   "metadata": {},
   "source": [
    "You are given two non-empty linked lists representing two non-negative integers. The digits are stored in reverse order, and each of their nodes contains a single digit. Add the two numbers and return the sum as a linked list.\n",
    "\n",
    "You may assume the two numbers do not contain any leading zero, except the number 0 itself.\n",
    "\n",
    "Example 1:\n",
    "\n",
    "Input: l1 = [2,4,3], l2 = [5,6,4]\n",
    "Output: [7,0,8]\n",
    "Explanation: 342 + 465 = 807.\n",
    "\n",
    "Example 2:\n",
    "\n",
    "Input: l1 = [0], l2 = [0]\n",
    "Output: [0]\n",
    "\n",
    "Example 3:\n",
    "\n",
    "Input: l1 = [9,9,9,9,9,9,9], l2 = [9,9,9,9]\n",
    "Output: [8,9,9,9,0,0,0,1]\n"
   ]
  },
  {
   "cell_type": "code",
   "execution_count": 1,
   "id": "8cdaf0ad-ba04-4fed-9a95-02cee9ed39c9",
   "metadata": {},
   "outputs": [],
   "source": [
    "class Solution:\n",
    "    def addTwoNumbers(self, l1, l2):\n",
    "        pass"
   ]
  },
  {
   "cell_type": "code",
   "execution_count": 2,
   "id": "03c23a7b-7820-4889-883b-dad0b510ad15",
   "metadata": {},
   "outputs": [
    {
     "name": "stdout",
     "output_type": "stream",
     "text": [
      "None\n"
     ]
    }
   ],
   "source": [
    "obj = Solution()\n",
    "l1 = [2,4,3]\n",
    "l2 = [5,6,4]\n",
    "result = obj.addTwoNumbers(l1, l2)\n",
    "print(result)"
   ]
  },
  {
   "cell_type": "code",
   "execution_count": 3,
   "id": "6357b684-bba8-4a4f-a8de-40ff4441b371",
   "metadata": {},
   "outputs": [],
   "source": [
    "# Solution 1\n",
    "\n",
    "def addTwoNumbers(l1, l2):\n",
    "    l1_reverse = []\n",
    "    l1_reverse_str = \"\"\n",
    "    l2_reverse = []\n",
    "    l2_reverse_str = \"\"\n",
    "    for item in range(len(l1) - 1, -1, -1):\n",
    "        l1_reverse.append(l1[item])\n",
    "        l1_reverse_str += str(l1[item])\n",
    "\n",
    "    for item in range(len(l2) - 1, -1, -1):\n",
    "        l2_reverse.append(l2[item])\n",
    "        l2_reverse_str += str(l2[item])\n",
    "        \n",
    "    # print(l1_reverse_str)\n",
    "    # print(l2_reverse_str)\n",
    "    result_str = str(int(l1_reverse_str) + int(l2_reverse_str))\n",
    "    print(result_str)\n",
    "\n",
    "    final_result = []\n",
    "    for num in range(len(result_str) - 1, -1, -1):\n",
    "        final_result.append(result_str[num])\n",
    "\n",
    "    return final_result"
   ]
  },
  {
   "cell_type": "code",
   "execution_count": 4,
   "id": "dd20b1b4-7fdb-4198-a2f5-6fc0bf6fa127",
   "metadata": {},
   "outputs": [
    {
     "name": "stdout",
     "output_type": "stream",
     "text": [
      "807\n"
     ]
    }
   ],
   "source": [
    "l1 = [2,4,3]\n",
    "l2 = [5,6,4]\n",
    "result = addTwoNumbers(l1, l2)"
   ]
  },
  {
   "cell_type": "code",
   "execution_count": 5,
   "id": "dc95b411-756b-4ca0-8404-f62c6becf3f3",
   "metadata": {},
   "outputs": [],
   "source": [
    "# Solution 2\n",
    "\n",
    "def addTwoNumbersOptimised(l1, l2):\n",
    "    carry = 0\n",
    "    result = []\n",
    "    larger_list = []\n",
    "    smaller_list = []\n",
    "    if len(l1) >= len(l2):\n",
    "        larger_list = l1\n",
    "        smaller_list = l2\n",
    "    else:\n",
    "        larger_list = l2\n",
    "        smaller_list = l1\n",
    "\n",
    "    for index in range(0, len(larger_list), 1):\n",
    "        if index < len(smaller_list):\n",
    "            sum = larger_list[index] + smaller_list[index]\n",
    "            if sum > 9:\n",
    "                result.append(sum%10 + carry)\n",
    "                carry = sum//10\n",
    "                continue\n",
    "                \n",
    "            result.append(sum + carry)\n",
    "            carry = 0\n",
    "            continue\n",
    "\n",
    "        sum = larger_list[index] + carry\n",
    "        result.append(sum%10)\n",
    "        carry = sum//10\n",
    "\n",
    "    if carry > 0:\n",
    "        result.append(carry)\n",
    "    print(result)\n",
    "        \n",
    "        \n",
    "    "
   ]
  },
  {
   "cell_type": "code",
   "execution_count": 6,
   "id": "dc29e35c-ba01-4eea-be8e-667852c2c824",
   "metadata": {},
   "outputs": [
    {
     "name": "stdout",
     "output_type": "stream",
     "text": [
      "[8, 9, 9, 9, 0, 0, 0, 1]\n"
     ]
    }
   ],
   "source": [
    "l1 = [9,9,9,9,9,9,9]\n",
    "l2 = [9,9,9,9]\n",
    "result = addTwoNumbersOptimised(l1, l2)"
   ]
  },
  {
   "cell_type": "code",
   "execution_count": null,
   "id": "50c35803-b965-4511-9407-103d27e15bab",
   "metadata": {},
   "outputs": [],
   "source": []
  }
 ],
 "metadata": {
  "kernelspec": {
   "display_name": "Python 3 (ipykernel)",
   "language": "python",
   "name": "python3"
  },
  "language_info": {
   "codemirror_mode": {
    "name": "ipython",
    "version": 3
   },
   "file_extension": ".py",
   "mimetype": "text/x-python",
   "name": "python",
   "nbconvert_exporter": "python",
   "pygments_lexer": "ipython3",
   "version": "3.9.6"
  }
 },
 "nbformat": 4,
 "nbformat_minor": 5
}
